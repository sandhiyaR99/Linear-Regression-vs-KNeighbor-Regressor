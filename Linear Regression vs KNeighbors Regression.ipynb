{
 "cells": [
  {
   "cell_type": "markdown",
   "id": "55c4c730",
   "metadata": {},
   "source": [
    "# Linear Regression and KNeighbors Regressor"
   ]
  },
  {
   "cell_type": "code",
   "execution_count": 1,
   "id": "2a2bf6c9",
   "metadata": {},
   "outputs": [],
   "source": [
    "import pandas as pd\n",
    "import numpy as np\n",
    "import seaborn as sns\n",
    "import matplotlib.pyplot as plt"
   ]
  },
  {
   "cell_type": "code",
   "execution_count": 3,
   "id": "76cac99c",
   "metadata": {},
   "outputs": [
    {
     "data": {
      "text/html": [
       "<div>\n",
       "<style scoped>\n",
       "    .dataframe tbody tr th:only-of-type {\n",
       "        vertical-align: middle;\n",
       "    }\n",
       "\n",
       "    .dataframe tbody tr th {\n",
       "        vertical-align: top;\n",
       "    }\n",
       "\n",
       "    .dataframe thead th {\n",
       "        text-align: right;\n",
       "    }\n",
       "</style>\n",
       "<table border=\"1\" class=\"dataframe\">\n",
       "  <thead>\n",
       "    <tr style=\"text-align: right;\">\n",
       "      <th></th>\n",
       "      <th>Unnamed: 0</th>\n",
       "      <th>TV</th>\n",
       "      <th>radio</th>\n",
       "      <th>newspaper</th>\n",
       "      <th>sales</th>\n",
       "    </tr>\n",
       "  </thead>\n",
       "  <tbody>\n",
       "    <tr>\n",
       "      <th>0</th>\n",
       "      <td>1</td>\n",
       "      <td>230.1</td>\n",
       "      <td>37.8</td>\n",
       "      <td>69.2</td>\n",
       "      <td>22.1</td>\n",
       "    </tr>\n",
       "    <tr>\n",
       "      <th>1</th>\n",
       "      <td>2</td>\n",
       "      <td>44.5</td>\n",
       "      <td>39.3</td>\n",
       "      <td>45.1</td>\n",
       "      <td>10.4</td>\n",
       "    </tr>\n",
       "  </tbody>\n",
       "</table>\n",
       "</div>"
      ],
      "text/plain": [
       "   Unnamed: 0     TV  radio  newspaper  sales\n",
       "0           1  230.1   37.8       69.2   22.1\n",
       "1           2   44.5   39.3       45.1   10.4"
      ]
     },
     "execution_count": 3,
     "metadata": {},
     "output_type": "execute_result"
    }
   ],
   "source": [
    "path =r\"Advertising.csv\"\n",
    "df = pd.read_csv(path)\n",
    "df.head(2)"
   ]
  },
  {
   "cell_type": "code",
   "execution_count": 9,
   "id": "2fef86e1",
   "metadata": {},
   "outputs": [
    {
     "name": "stdout",
     "output_type": "stream",
     "text": [
      "<class 'pandas.core.frame.DataFrame'>\n",
      "RangeIndex: 200 entries, 0 to 199\n",
      "Data columns (total 5 columns):\n",
      " #   Column      Non-Null Count  Dtype  \n",
      "---  ------      --------------  -----  \n",
      " 0   Unnamed: 0  200 non-null    int64  \n",
      " 1   TV          200 non-null    float64\n",
      " 2   radio       200 non-null    float64\n",
      " 3   newspaper   200 non-null    float64\n",
      " 4   sales       200 non-null    float64\n",
      "dtypes: float64(4), int64(1)\n",
      "memory usage: 7.9 KB\n"
     ]
    }
   ],
   "source": [
    "df.info()"
   ]
  },
  {
   "cell_type": "code",
   "execution_count": 4,
   "id": "4166f2b0",
   "metadata": {},
   "outputs": [
    {
     "data": {
      "text/plain": [
       "Unnamed: 0    0.0\n",
       "TV            0.0\n",
       "radio         0.0\n",
       "newspaper     0.0\n",
       "sales         0.0\n",
       "dtype: float64"
      ]
     },
     "execution_count": 4,
     "metadata": {},
     "output_type": "execute_result"
    }
   ],
   "source": [
    "df.isnull().sum()/len(df)*100"
   ]
  },
  {
   "cell_type": "code",
   "execution_count": 8,
   "id": "02d4457b",
   "metadata": {},
   "outputs": [
    {
     "data": {
      "text/plain": [
       "<Axes: >"
      ]
     },
     "execution_count": 8,
     "metadata": {},
     "output_type": "execute_result"
    },
    {
     "data": {
      "image/png": "[encoded data removed]",
      "text/plain": [
       "<Figure size 640x480 with 1 Axes>"
      ]
     },
     "metadata": {},
     "output_type": "display_data"
    }
   ],
   "source": [
    "# checking outlier\n",
    "df.boxplot()"
   ]
  },
  {
   "cell_type": "code",
   "execution_count": 17,
   "id": "d37c92ad",
   "metadata": {},
   "outputs": [
    {
     "data": {
      "image/png": "[encoded data removed]",
      "text/plain": [
       "<Figure size 640x480 with 1 Axes>"
      ]
     },
     "metadata": {},
     "output_type": "display_data"
    }
   ],
   "source": [
    "sns.boxplot(x=df['newspaper'])\n",
    "plt.show()"
   ]
  },
  {
   "cell_type": "code",
   "execution_count": 16,
   "id": "2a9a51f4",
   "metadata": {},
   "outputs": [
    {
     "data": {
      "text/plain": [
       "count    200.000000\n",
       "mean      30.554000\n",
       "std       21.778621\n",
       "min        0.300000\n",
       "25%       12.750000\n",
       "50%       25.750000\n",
       "75%       45.100000\n",
       "max      114.000000\n",
       "Name: newspaper, dtype: float64"
      ]
     },
     "execution_count": 16,
     "metadata": {},
     "output_type": "execute_result"
    }
   ],
   "source": [
    "df['newspaper'].describe()"
   ]
  },
  {
   "cell_type": "code",
   "execution_count": 19,
   "id": "128cb336",
   "metadata": {},
   "outputs": [
    {
     "data": {
      "text/plain": [
       "0    69.2\n",
       "1    45.1\n",
       "2    69.3\n",
       "3    58.5\n",
       "4    58.4\n",
       "Name: newspaper, dtype: float64"
      ]
     },
     "execution_count": 19,
     "metadata": {},
     "output_type": "execute_result"
    }
   ],
   "source": [
    "Q1 = 12.750000\n",
    "Q3 = 45.100000\n",
    "IQR = Q3-Q1\n",
    "UB = Q3+1.5*IQR\n",
    "df['newspaper']=np.where(df['newspaper']>UB,UB,df['newspaper'])\n",
    "df['newspaper'].head()"
   ]
  },
  {
   "cell_type": "code",
   "execution_count": 20,
   "id": "fb076ffa",
   "metadata": {},
   "outputs": [],
   "source": [
    "# Feature Selection\n",
    "\n",
    "X = df[[\"TV\",\"radio\",\"newspaper\"]]\n",
    "Y = df[[\"sales\"]]"
   ]
  },
  {
   "cell_type": "code",
   "execution_count": 23,
   "id": "229262b3",
   "metadata": {},
   "outputs": [
    {
     "data": {
      "text/html": [
       "<div>\n",
       "<style scoped>\n",
       "    .dataframe tbody tr th:only-of-type {\n",
       "        vertical-align: middle;\n",
       "    }\n",
       "\n",
       "    .dataframe tbody tr th {\n",
       "        vertical-align: top;\n",
       "    }\n",
       "\n",
       "    .dataframe thead th {\n",
       "        text-align: right;\n",
       "    }\n",
       "</style>\n",
       "<table border=\"1\" class=\"dataframe\">\n",
       "  <thead>\n",
       "    <tr style=\"text-align: right;\">\n",
       "      <th></th>\n",
       "      <th>TV</th>\n",
       "      <th>radio</th>\n",
       "      <th>newspaper</th>\n",
       "    </tr>\n",
       "  </thead>\n",
       "  <tbody>\n",
       "    <tr>\n",
       "      <th>0</th>\n",
       "      <td>230.1</td>\n",
       "      <td>37.8</td>\n",
       "      <td>69.2</td>\n",
       "    </tr>\n",
       "    <tr>\n",
       "      <th>1</th>\n",
       "      <td>44.5</td>\n",
       "      <td>39.3</td>\n",
       "      <td>45.1</td>\n",
       "    </tr>\n",
       "  </tbody>\n",
       "</table>\n",
       "</div>"
      ],
      "text/plain": [
       "      TV  radio  newspaper\n",
       "0  230.1   37.8       69.2\n",
       "1   44.5   39.3       45.1"
      ]
     },
     "execution_count": 23,
     "metadata": {},
     "output_type": "execute_result"
    }
   ],
   "source": [
    "X.head(2)"
   ]
  },
  {
   "cell_type": "code",
   "execution_count": 22,
   "id": "d32fb6c0",
   "metadata": {},
   "outputs": [
    {
     "data": {
      "text/html": [
       "<div>\n",
       "<style scoped>\n",
       "    .dataframe tbody tr th:only-of-type {\n",
       "        vertical-align: middle;\n",
       "    }\n",
       "\n",
       "    .dataframe tbody tr th {\n",
       "        vertical-align: top;\n",
       "    }\n",
       "\n",
       "    .dataframe thead th {\n",
       "        text-align: right;\n",
       "    }\n",
       "</style>\n",
       "<table border=\"1\" class=\"dataframe\">\n",
       "  <thead>\n",
       "    <tr style=\"text-align: right;\">\n",
       "      <th></th>\n",
       "      <th>sales</th>\n",
       "    </tr>\n",
       "  </thead>\n",
       "  <tbody>\n",
       "    <tr>\n",
       "      <th>0</th>\n",
       "      <td>22.1</td>\n",
       "    </tr>\n",
       "    <tr>\n",
       "      <th>1</th>\n",
       "      <td>10.4</td>\n",
       "    </tr>\n",
       "  </tbody>\n",
       "</table>\n",
       "</div>"
      ],
      "text/plain": [
       "   sales\n",
       "0   22.1\n",
       "1   10.4"
      ]
     },
     "execution_count": 22,
     "metadata": {},
     "output_type": "execute_result"
    }
   ],
   "source": [
    "Y.head(2)"
   ]
  },
  {
   "cell_type": "code",
   "execution_count": 27,
   "id": "bf3e5d4b",
   "metadata": {},
   "outputs": [
    {
     "data": {
      "text/plain": [
       "array([[ 9.69852266e-01,  9.81522472e-01,  1.82397883e+00],\n",
       "       [-1.19737623e+00,  1.08280781e+00,  6.90583449e-01],\n",
       "       [-1.51615499e+00,  1.52846331e+00,  1.82868171e+00],\n",
       "       [ 5.20496822e-02,  1.21785493e+00,  1.32077009e+00],\n",
       "       [ 3.94182198e-01, -8.41613655e-01,  1.31606721e+00],\n",
       "       [-1.61540845e+00,  1.73103399e+00,  2.09674618e+00],\n",
       "       [-1.04557682e+00,  6.43904671e-01, -3.25239797e-01],\n",
       "       [-3.13436589e-01, -2.47406325e-01, -8.84883159e-01],\n",
       "       [-1.61657614e+00, -1.42906863e+00, -1.38338901e+00],\n",
       "       [ 6.16042873e-01, -1.39530685e+00, -4.33406161e-01],\n",
       "       [-9.45155670e-01, -1.17923146e+00, -2.92319599e-01],\n",
       "       [ 7.90028350e-01,  4.96973404e-02, -1.24230245e+00],\n",
       "       [-1.43908760e+00,  7.99208859e-01,  1.66878361e+00],\n",
       "       [-5.78501712e-01, -1.05768905e+00, -1.09181012e+00],\n",
       "       [ 6.66253447e-01,  6.50657027e-01,  7.32909417e-01],\n",
       "       [ 5.64664612e-01,  1.65000572e+00,  1.05740851e+00],\n",
       "       [-9.25304978e-01,  9.00494200e-01,  2.97265859e+00],\n",
       "       [ 1.56887609e+00,  1.10306488e+00,  1.19379219e+00],\n",
       "       [-9.08957349e-01, -1.86635121e-01, -5.69789837e-01],\n",
       "       [ 3.00679600e-03,  4.29449843e-02, -5.32166754e-01],\n",
       "       [ 8.33232798e-01,  2.99534513e-01,  1.08092294e+00],\n",
       "       [ 1.05509347e+00, -1.22649795e+00, -3.25239797e-01],\n",
       "       [-1.56286250e+00, -4.97243498e-01,  9.02213291e-01],\n",
       "       [ 9.48833887e-01, -4.29719938e-01, -1.98261891e-01],\n",
       "       [-9.89527805e-01, -7.20071247e-01, -5.69789837e-01],\n",
       "       [ 1.35285385e+00, -1.33453565e+00, -5.13355213e-01],\n",
       "       [-4.83714657e-02,  4.07572210e-01, -8.37854305e-01],\n",
       "       [ 1.08662104e+00, -4.43224650e-01, -3.53457109e-01],\n",
       "       [ 1.18820988e+00,  2.59020377e-01, -3.53457109e-01],\n",
       "       [-8.92609721e-01, -4.90491142e-01,  4.88359377e-01],\n",
       "       [ 1.70316018e+00,  3.40048650e-01,  6.01228626e-01],\n",
       "       [-3.98677796e-01, -3.95958157e-01,  3.84895898e-01],\n",
       "       [-5.82004775e-01, -1.46958277e+00, -1.95522460e-02],\n",
       "       [ 1.38438142e+00, -2.20396901e-01, -1.41630921e+00],\n",
       "       [-5.99520091e-01, -1.47633512e+00, -1.08240435e+00],\n",
       "       [ 1.67747105e+00, -1.29402151e+00, -1.03067261e+00],\n",
       "       [ 1.39956136e+00,  1.38666383e+00, -1.19527359e+00],\n",
       "       [-8.44734522e-01,  1.76479577e+00,  7.18800761e-01],\n",
       "       [-1.21372386e+00,  2.32010953e-01,  2.20294909e-01],\n",
       "       [ 9.45330823e-01,  9.74770116e-01,  7.45054619e-02],\n",
       "       [ 6.47570443e-01, -6.50927121e-02,  5.56939203e-02],\n",
       "       [ 3.49810063e-01,  6.84418807e-01,  3.89598783e-01],\n",
       "       [ 1.71133400e+00,  2.99534513e-01, -1.34576593e+00],\n",
       "       [ 6.98948705e-01, -1.00367020e+00, -1.88856120e-01],\n",
       "       [-1.42390765e+00,  1.64487393e-01,  6.05931512e-01],\n",
       "       [ 3.27623995e-01, -5.15880000e-02,  5.09910349e-02],\n",
       "       [-6.69581357e-01, -9.02384859e-01,  2.48512222e-01],\n",
       "       [ 1.08428567e+00,  1.23135965e+00, -5.60384067e-01],\n",
       "       [ 9.35989321e-01, -5.03995854e-01,  9.16321948e-01],\n",
       "       [-9.35814168e-01, -7.80842451e-01,  3.00243961e-01],\n",
       "       [ 6.16042873e-01, -1.36154507e+00,  1.96780482e-01],\n",
       "       [-5.44638766e-01, -9.22641928e-01, -1.26111399e+00],\n",
       "       [ 8.09879042e-01,  1.24486436e+00,  4.31924752e-01],\n",
       "       [ 4.15200577e-01,  1.54872038e+00,  1.33017586e+00],\n",
       "       [ 1.35051848e+00,  3.73810430e-01, -6.82659087e-01],\n",
       "       [ 6.05533683e-01,  1.76479577e+00,  1.39131337e+00],\n",
       "       [-1.63175608e+00,  3.26543937e-01,  5.16576689e-01],\n",
       "       [-1.26606546e-01, -2.74415749e-01, -6.49738889e-01],\n",
       "       [ 7.44488528e-01,  1.77830048e+00,  3.42569929e-01],\n",
       "       [ 7.43320840e-01,  4.21076922e-01, -9.93049523e-01],\n",
       "       [-1.09228433e+00, -1.43582099e+00, -4.24000390e-01],\n",
       "       [ 1.33417085e+00,  1.31238792e+00,  1.14206045e+00],\n",
       "       [ 1.07727954e+00, -5.24252922e-01, -1.46530152e-01],\n",
       "       [-5.17781948e-01,  4.27829278e-01, -1.03537549e+00],\n",
       "       [-1.86158622e-01,  1.31914027e+00, -7.12839854e-02],\n",
       "       [-9.11292725e-01, -9.42898996e-01, -1.38809190e+00],\n",
       "       [-1.34917564e+00,  9.02114765e-02, -1.32695439e+00],\n",
       "       [-9.04082253e-02, -5.91776482e-01, -9.50723554e-01],\n",
       "       [ 1.05509347e+00,  2.86029801e-01, -9.13100471e-01],\n",
       "       [ 8.14549794e-01,  1.39341619e+00, -1.51233037e-01],\n",
       "       [ 6.07869059e-01,  4.95352838e-01,  3.89598783e-01],\n",
       "       [-4.34876116e-01, -6.05281194e-01,  6.03968057e-02],\n",
       "       [-1.40405696e+00,  6.57409383e-01, -5.22760983e-01],\n",
       "       [-2.06009314e-01, -1.18598381e+00,  4.15852641e-02],\n",
       "       [ 7.74848409e-01,  9.02114765e-02, -8.14339878e-01],\n",
       "       [-1.51965805e+00,  1.37991148e+00,  2.77396168e+00],\n",
       "       [-1.39588315e+00, -1.46283041e+00, -4.56920588e-01],\n",
       "       [-3.09933525e-01,  3.53553362e-01, -7.62608139e-01],\n",
       "       [-1.65394214e+00,  4.48086346e-01, -9.88346637e-01],\n",
       "       [-3.62479475e-01, -1.05093669e+00, -3.44051338e-01],\n",
       "       [-8.24883830e-01,  2.32010953e-01, -3.81674421e-01],\n",
       "       [ 1.08311798e+00, -1.29402151e+00,  3.04946846e-01],\n",
       "       [-8.37728396e-01, -2.00139833e-01,  9.80198889e-02],\n",
       "       [-9.18298852e-01,  1.43393033e+00,  2.43809336e-01],\n",
       "       [ 7.76016097e-01,  1.33264499e+00,  1.59157399e-01],\n",
       "       [ 5.38975481e-01, -3.28434597e-01,  1.65937784e+00],\n",
       "       [-8.26051518e-01,  2.86029801e-01, -6.77956201e-01],\n",
       "       [-4.24366926e-01,  1.17058844e+00,  1.54180571e+00],\n",
       "       [-6.85928986e-01,  1.50982681e-01,  2.02150002e+00],\n",
       "       [-4.34876116e-01,  1.65675807e+00,  9.86865229e-01],\n",
       "       [-1.48792614e-01, -1.24000266e+00, -9.93049523e-01],\n",
       "       [-1.38303858e+00, -1.46958277e+00,  1.21534316e-01],\n",
       "       [ 8.25058983e-01,  6.91171163e-01,  1.34428452e+00],\n",
       "       [ 1.21273132e+00,  8.93741844e-01,  1.96976828e+00],\n",
       "       [-4.62900623e-01, -6.25538262e-01, -9.17803357e-01],\n",
       "       [ 1.89836839e-01,  5.62876398e-01,  1.05740851e+00],\n",
       "       [ 5.90353742e-01, -1.33453565e+00, -1.15294763e+00],\n",
       "       [ 4.42057396e-01, -1.52873340e-01, -3.95783078e-01],\n",
       "       [ 1.66579418e+00,  1.28537849e+00,  9.77459458e-01],\n",
       "       [-1.38283424e-01,  1.24486436e+00,  7.28206532e-01],\n",
       "       [ 8.79940308e-01, -1.28051680e+00,  9.11619062e-01],\n",
       "       [ 1.74402926e+00,  8.80237132e-01,  2.97265859e+00],\n",
       "       [ 1.55486384e+00, -8.88880147e-01, -4.24000390e-01],\n",
       "       [ 4.77088029e-01, -4.09462869e-01, -5.88601379e-01],\n",
       "       [ 1.06443498e+00,  7.45190011e-01, -1.18116494e+00],\n",
       "       [-1.06755854e-01,  1.56222509e+00,  1.34428452e+00],\n",
       "       [-1.42507534e+00, -8.28108943e-01, -3.36609022e-02],\n",
       "       [-6.61407543e-01, -1.55061104e+00, -3.39348453e-01],\n",
       "       [-1.56403019e+00, -1.54385868e+00, -2.26479203e-01],\n",
       "       [ 1.26527727e+00,  2.45515665e-01, -1.17175917e+00],\n",
       "       [ 9.19641692e-01, -1.01717491e+00,  1.22671238e+00],\n",
       "       [ 1.10530405e+00,  9.95027184e-01, -3.39348453e-01],\n",
       "       [ 3.34630122e-01, -5.31005278e-01, -1.31754862e+00],\n",
       "       [ 7.30476274e-01, -1.79882765e-01, -9.27209127e-01],\n",
       "       [-8.03865450e-01,  1.58923451e+00,  1.92077597e-01],\n",
       "       [-8.40063771e-01,  7.92456503e-01,  1.04800274e+00],\n",
       "       [-9.15759131e-02, -6.05281194e-01, -2.26479203e-01],\n",
       "       [-8.24883830e-01, -1.51684926e+00, -7.34390826e-01],\n",
       "       [-2.49213762e-01,  9.20751268e-01,  2.29426737e+00],\n",
       "       [-1.49046586e+00, -4.90491142e-01, -3.81674421e-01],\n",
       "       [-6.70544700e-02,  2.38763309e-01,  7.42315188e-01],\n",
       "       [-1.49747198e+00, -1.05606848e-01,  9.39836375e-01],\n",
       "       [ 8.98623313e-01, -1.40881156e+00, -6.96767743e-01],\n",
       "       [-2.79573643e-01,  7.65447079e-01, -8.47260076e-01],\n",
       "       [ 9.62846140e-01,  6.10142891e-01,  2.05912310e+00],\n",
       "       [-6.98773552e-01, -7.74090095e-01, -2.12370547e-01],\n",
       "       [-1.62591764e+00,  1.05579839e+00,  9.49242145e-01],\n",
       "       [-7.80511695e-01, -1.57086811e+00, -9.97752408e-01],\n",
       "       [ 8.55418865e-01,  1.73778635e+00, -1.27992553e+00],\n",
       "       [-1.02105537e+00, -7.60585383e-01,  5.96525741e-01],\n",
       "       [-1.70882347e+00,  1.10306488e+00, -1.02126684e+00],\n",
       "       [ 1.37971067e+00, -1.37504978e+00,  5.91822855e-01],\n",
       "       [-1.61891151e+00,  2.65772733e-01, -1.33165727e+00],\n",
       "       [ 8.49580427e-01,  6.91171163e-01,  6.90583449e-01],\n",
       "       [-1.28612050e+00,  1.03554132e+00,  1.65467495e+00],\n",
       "       [-1.15300409e+00,  1.60273923e+00, -1.03067261e+00],\n",
       "       [-1.41806922e+00,  1.06255074e+00, -9.93049523e-01],\n",
       "       [ 1.47896413e+00,  3.80562786e-01,  1.37720472e+00],\n",
       "       [-1.21489154e+00,  1.77992105e-01, -4.66326359e-01],\n",
       "       [ 4.42057396e-01,  1.39341619e+00, -1.35046881e+00],\n",
       "       [-8.59914463e-01, -4.22967582e-01, -8.23745649e-01],\n",
       "       [ 5.44813920e-01,  8.19465927e-01,  2.12496349e+00],\n",
       "       [ 8.57754241e-01,  6.70914095e-01,  3.51975700e-01],\n",
       "       [-4.95595880e-01, -1.18598381e+00,  1.87374711e-01],\n",
       "       [-5.93681653e-01, -5.71519414e-01,  3.99004554e-01],\n",
       "       [-7.87313476e-02, -1.44257334e+00, -1.00715818e+00],\n",
       "       [ 1.08662104e+00, -1.07794612e+00, -1.02126684e+00],\n",
       "       [ 1.12281936e+00,  1.73778635e+00,  6.52960366e-01],\n",
       "       [-1.27327593e+00,  1.15033137e+00, -8.70774503e-01],\n",
       "       [-1.19504085e+00,  1.71239749e-01, -4.61623473e-01],\n",
       "       [ 1.56070228e+00, -6.32290618e-01,  3.09649732e-01],\n",
       "       [-3.04095087e-01, -1.00367020e+00,  8.59887323e-01],\n",
       "       [ 5.90353742e-01,  2.43084817e-03, -7.62608139e-01],\n",
       "       [ 2.83251860e-01,  1.10981724e+00,  3.42569929e-01],\n",
       "       [ 4.75920341e-01, -1.46120984e-01, -9.83643752e-01],\n",
       "       [-1.66912209e+00, -7.87594807e-01, -1.16235340e+00],\n",
       "       [-6.20538471e-01,  1.36640677e+00,  9.44539260e-01],\n",
       "       [ 3.21989902e-02, -1.48308748e+00, -2.87616714e-01],\n",
       "       [-1.58037782e+00,  9.20751268e-01,  6.95286334e-01],\n",
       "       [-1.79152496e-01, -3.28434597e-01,  1.96780482e-01],\n",
       "       [ 2.97264113e-01, -3.48691665e-01,  1.33679517e-02],\n",
       "       [-7.16288868e-01,  8.46475352e-01,  8.88104635e-01],\n",
       "       [ 4.82926468e-01, -3.48691665e-01, -2.26479203e-01],\n",
       "       [ 1.92172214e-01,  9.13998912e-01, -1.08240435e+00],\n",
       "       [-3.48467222e-01, -5.78271770e-01, -1.17646205e+00],\n",
       "       [ 1.02123053e+00, -1.34128800e+00,  2.55762895e+00],\n",
       "       [-1.50798117e+00,  9.68017760e-01, -4.14594619e-01],\n",
       "       [ 6.97781017e-01, -1.21974559e+00, -5.18058098e-01],\n",
       "       [ 7.98202165e-01,  2.26879163e-02,  1.27844412e+00],\n",
       "       [ 1.60273904e+00, -8.55118367e-01, -1.12943320e+00],\n",
       "       [-1.13315340e+00, -7.87594807e-01, -5.65086952e-01],\n",
       "       [ 2.03849092e-01, -1.59625696e-01,  7.98749813e-01],\n",
       "       [-1.48813048e+00, -2.13644545e-01, -6.30927347e-01],\n",
       "       [ 2.49388915e-01, -1.09145083e+00, -8.28448534e-01],\n",
       "       [ 8.79940308e-01, -1.34128800e+00, -8.14339878e-01],\n",
       "       [ 1.51633014e+00,  1.73103399e+00,  5.35388231e-01],\n",
       "       [ 1.18353913e+00,  4.68343414e-01, -4.75732129e-01],\n",
       "       [ 2.70407294e-01, -1.04418434e+00,  2.24997795e-01],\n",
       "       [ 1.51399477e+00, -1.41556392e+00, -3.15834026e-01],\n",
       "       [ 2.16693657e-01, -8.95632503e-01, -6.02710035e-01],\n",
       "       [ 1.11601758e-01, -1.39530685e+00, -1.04007838e+00],\n",
       "       [ 8.34400486e-01, -1.20624088e+00, -1.41827266e-01],\n",
       "       [-1.06075676e+00, -1.18598381e+00, -3.36609022e-02],\n",
       "       [ 1.64127273e+00,  1.33264499e+00,  1.94625385e+00],\n",
       "       [ 1.24659427e+00, -1.32616272e-01, -1.95522460e-02],\n",
       "       [ 6.76762637e-01,  1.47444446e+00, -5.08652327e-01],\n",
       "       [-8.80728498e-02, -1.42906863e+00, -1.79450349e-01],\n",
       "       [ 5.14454038e-01,  3.67058074e-01, -5.74492723e-01],\n",
       "       [ 1.62258973e+00, -6.32290618e-01, -1.25641111e+00],\n",
       "       [-1.49863967e+00, -7.53833027e-01, -3.29942682e-01],\n",
       "       [-1.25576062e+00,  1.20435022e+00, -1.15765051e+00],\n",
       "       [-8.35393020e-01, -8.41613655e-01, -1.14824474e+00],\n",
       "       [-1.51615499e+00, -1.29402151e+00,  5.56939203e-02],\n",
       "       [ 2.30705910e-01,  1.26512143e+00, -1.26111399e+00],\n",
       "       [ 3.10313024e-02,  8.32970639e-01, -1.14824474e+00],\n",
       "       [-1.27094056e+00, -1.32103093e+00, -7.81419680e-01],\n",
       "       [-6.17035408e-01, -1.24000266e+00, -1.04948415e+00],\n",
       "       [ 3.49810063e-01, -9.42898996e-01, -1.12943320e+00],\n",
       "       [ 1.59456522e+00,  1.26512143e+00,  1.68289227e+00],\n",
       "       [ 9.93206022e-01, -9.90165488e-01, -1.02126684e+00]])"
      ]
     },
     "execution_count": 27,
     "metadata": {},
     "output_type": "execute_result"
    }
   ],
   "source": [
    "# feature scaling only for X independent feature\n",
    "\n",
    "from sklearn.preprocessing import StandardScaler\n",
    "ss= StandardScaler()\n",
    "X_trans = ss.fit_transform(X)\n",
    "X_trans"
   ]
  },
  {
   "cell_type": "code",
   "execution_count": 33,
   "id": "67debe1e",
   "metadata": {},
   "outputs": [],
   "source": [
    "# data split\n",
    "\n",
    "from sklearn.model_selection import train_test_split\n",
    "x_train,x_test,y_train,y_test= train_test_split(X_trans,Y,test_size=.25,random_state=50)"
   ]
  },
  {
   "cell_type": "code",
   "execution_count": 44,
   "id": "090fb744",
   "metadata": {},
   "outputs": [
    {
     "name": "stdout",
     "output_type": "stream",
     "text": [
      "LR training score 0.8986017981448885\n",
      "KN training score 0.9586212523989224\n"
     ]
    }
   ],
   "source": [
    "# calling models and sending training data\n",
    "\n",
    "from sklearn.linear_model import LinearRegression\n",
    "from sklearn.neighbors import KNeighborsRegressor\n",
    "lr=LinearRegression()\n",
    "kn= KNeighborsRegressor(n_neighbors = 5)\n",
    "\n",
    "lr.fit(x_train,y_train)\n",
    "print(\"LR training score\", lr.score(x_train,y_train))\n",
    "\n",
    "kn.fit(x_train,y_train)\n",
    "print(\"KN training score\", kn.score(x_train,y_train))"
   ]
  },
  {
   "cell_type": "code",
   "execution_count": 50,
   "id": "8428a401",
   "metadata": {},
   "outputs": [],
   "source": [
    "# testing\n",
    "\n",
    "lr_predict=lr.predict(x_test)\n",
    "kn_predict=kn.predict(x_test)"
   ]
  },
  {
   "cell_type": "code",
   "execution_count": 56,
   "id": "2473d467",
   "metadata": {},
   "outputs": [
    {
     "data": {
      "text/html": [
       "<div>\n",
       "<style scoped>\n",
       "    .dataframe tbody tr th:only-of-type {\n",
       "        vertical-align: middle;\n",
       "    }\n",
       "\n",
       "    .dataframe tbody tr th {\n",
       "        vertical-align: top;\n",
       "    }\n",
       "\n",
       "    .dataframe thead th {\n",
       "        text-align: right;\n",
       "    }\n",
       "</style>\n",
       "<table border=\"1\" class=\"dataframe\">\n",
       "  <thead>\n",
       "    <tr style=\"text-align: right;\">\n",
       "      <th></th>\n",
       "      <th>sales</th>\n",
       "    </tr>\n",
       "  </thead>\n",
       "  <tbody>\n",
       "    <tr>\n",
       "      <th>112</th>\n",
       "      <td>14.1</td>\n",
       "    </tr>\n",
       "    <tr>\n",
       "      <th>165</th>\n",
       "      <td>11.9</td>\n",
       "    </tr>\n",
       "  </tbody>\n",
       "</table>\n",
       "</div>"
      ],
      "text/plain": [
       "     sales\n",
       "112   14.1\n",
       "165   11.9"
      ]
     },
     "execution_count": 56,
     "metadata": {},
     "output_type": "execute_result"
    }
   ],
   "source": [
    "y_test.head(2)\n",
    "# as index is not proper"
   ]
  },
  {
   "cell_type": "code",
   "execution_count": 51,
   "id": "c3cacfa1",
   "metadata": {},
   "outputs": [
    {
     "data": {
      "text/html": [
       "<div>\n",
       "<style scoped>\n",
       "    .dataframe tbody tr th:only-of-type {\n",
       "        vertical-align: middle;\n",
       "    }\n",
       "\n",
       "    .dataframe tbody tr th {\n",
       "        vertical-align: top;\n",
       "    }\n",
       "\n",
       "    .dataframe thead th {\n",
       "        text-align: right;\n",
       "    }\n",
       "</style>\n",
       "<table border=\"1\" class=\"dataframe\">\n",
       "  <thead>\n",
       "    <tr style=\"text-align: right;\">\n",
       "      <th></th>\n",
       "      <th>sales</th>\n",
       "    </tr>\n",
       "  </thead>\n",
       "  <tbody>\n",
       "    <tr>\n",
       "      <th>0</th>\n",
       "      <td>14.1</td>\n",
       "    </tr>\n",
       "    <tr>\n",
       "      <th>1</th>\n",
       "      <td>11.9</td>\n",
       "    </tr>\n",
       "  </tbody>\n",
       "</table>\n",
       "</div>"
      ],
      "text/plain": [
       "   sales\n",
       "0   14.1\n",
       "1   11.9"
      ]
     },
     "execution_count": 51,
     "metadata": {},
     "output_type": "execute_result"
    }
   ],
   "source": [
    "# creating result variable\n",
    "result= y_test.reset_index(drop=True)\n",
    "result.head(2)"
   ]
  },
  {
   "cell_type": "code",
   "execution_count": 52,
   "id": "ea6d527a",
   "metadata": {},
   "outputs": [
    {
     "data": {
      "text/html": [
       "<div>\n",
       "<style scoped>\n",
       "    .dataframe tbody tr th:only-of-type {\n",
       "        vertical-align: middle;\n",
       "    }\n",
       "\n",
       "    .dataframe tbody tr th {\n",
       "        vertical-align: top;\n",
       "    }\n",
       "\n",
       "    .dataframe thead th {\n",
       "        text-align: right;\n",
       "    }\n",
       "</style>\n",
       "<table border=\"1\" class=\"dataframe\">\n",
       "  <thead>\n",
       "    <tr style=\"text-align: right;\">\n",
       "      <th></th>\n",
       "      <th>sales</th>\n",
       "      <th>LR_prediction</th>\n",
       "      <th>KN_prediction</th>\n",
       "    </tr>\n",
       "  </thead>\n",
       "  <tbody>\n",
       "    <tr>\n",
       "      <th>0</th>\n",
       "      <td>14.1</td>\n",
       "      <td>13.803269</td>\n",
       "      <td>14.84</td>\n",
       "    </tr>\n",
       "    <tr>\n",
       "      <th>1</th>\n",
       "      <td>11.9</td>\n",
       "      <td>14.681715</td>\n",
       "      <td>13.60</td>\n",
       "    </tr>\n",
       "  </tbody>\n",
       "</table>\n",
       "</div>"
      ],
      "text/plain": [
       "   sales  LR_prediction  KN_prediction\n",
       "0   14.1      13.803269          14.84\n",
       "1   11.9      14.681715          13.60"
      ]
     },
     "execution_count": 52,
     "metadata": {},
     "output_type": "execute_result"
    }
   ],
   "source": [
    "result[\"LR_prediction\"]=lr_predict\n",
    "result[\"KN_prediction\"]=kn_predict\n",
    "result.head(2)"
   ]
  },
  {
   "cell_type": "markdown",
   "id": "7fc5aea6",
   "metadata": {},
   "source": [
    "## model performance"
   ]
  },
  {
   "cell_type": "code",
   "execution_count": 53,
   "id": "1ca5e167",
   "metadata": {},
   "outputs": [
    {
     "data": {
      "text/html": [
       "<div>\n",
       "<style scoped>\n",
       "    .dataframe tbody tr th:only-of-type {\n",
       "        vertical-align: middle;\n",
       "    }\n",
       "\n",
       "    .dataframe tbody tr th {\n",
       "        vertical-align: top;\n",
       "    }\n",
       "\n",
       "    .dataframe thead th {\n",
       "        text-align: right;\n",
       "    }\n",
       "</style>\n",
       "<table border=\"1\" class=\"dataframe\">\n",
       "  <thead>\n",
       "    <tr style=\"text-align: right;\">\n",
       "      <th></th>\n",
       "      <th>sales</th>\n",
       "      <th>LR_prediction</th>\n",
       "      <th>KN_prediction</th>\n",
       "      <th>LR_Error</th>\n",
       "      <th>KN_Error</th>\n",
       "    </tr>\n",
       "  </thead>\n",
       "  <tbody>\n",
       "    <tr>\n",
       "      <th>0</th>\n",
       "      <td>14.1</td>\n",
       "      <td>13.803269</td>\n",
       "      <td>14.84</td>\n",
       "      <td>0.296731</td>\n",
       "      <td>-0.74</td>\n",
       "    </tr>\n",
       "    <tr>\n",
       "      <th>1</th>\n",
       "      <td>11.9</td>\n",
       "      <td>14.681715</td>\n",
       "      <td>13.60</td>\n",
       "      <td>-2.781715</td>\n",
       "      <td>-1.70</td>\n",
       "    </tr>\n",
       "  </tbody>\n",
       "</table>\n",
       "</div>"
      ],
      "text/plain": [
       "   sales  LR_prediction  KN_prediction  LR_Error  KN_Error\n",
       "0   14.1      13.803269          14.84  0.296731     -0.74\n",
       "1   11.9      14.681715          13.60 -2.781715     -1.70"
      ]
     },
     "execution_count": 53,
     "metadata": {},
     "output_type": "execute_result"
    }
   ],
   "source": [
    "result[\"LR_Error\"]=result[\"sales\"]-result[\"LR_prediction\"]\n",
    "result[\"KN_Error\"]=result[\"sales\"]-result[\"KN_prediction\"]\n",
    "result.head(2)"
   ]
  },
  {
   "cell_type": "code",
   "execution_count": 55,
   "id": "dfe6c48a",
   "metadata": {},
   "outputs": [
    {
     "name": "stdout",
     "output_type": "stream",
     "text": [
      "R2 score of LR :  0.878659067840701\n",
      "MSE score of LR :  2.124396269691801\n",
      "MAE score of LR :  1.1261241620324294\n",
      "R2 score of KN :  0.9534219985030556\n",
      "MSE score of KN :  0.8154719999999998\n",
      "MAE score of KN :  0.6464000000000003\n"
     ]
    }
   ],
   "source": [
    "from sklearn.metrics import r2_score,mean_squared_error,mean_absolute_error\n",
    "\n",
    "print(\"R2 score of LR : \",r2_score(result[\"sales\"],result[\"LR_prediction\"]))\n",
    "print(\"MSE score of LR : \",mean_squared_error(result[\"sales\"],result[\"LR_prediction\"]))\n",
    "print(\"MAE score of LR : \",mean_absolute_error(result[\"sales\"],result[\"LR_prediction\"]))\n",
    "\n",
    "print(\"R2 score of KN : \",r2_score(result[\"sales\"],result[\"KN_prediction\"]))\n",
    "print(\"MSE score of KN : \",mean_squared_error(result[\"sales\"],result[\"KN_prediction\"]))\n",
    "print(\"MAE score of KN : \",mean_absolute_error(result[\"sales\"],result[\"KN_prediction\"]))\n"
   ]
  },
  {
   "cell_type": "code",
   "execution_count": 60,
   "id": "73c5637a",
   "metadata": {},
   "outputs": [
    {
     "name": "stdout",
     "output_type": "stream",
     "text": [
      "LR cv score [0.84722719 0.90893972 0.87374112 0.91794224 0.84229151]\n",
      "LR variance score 0.8780283544464048\n",
      "KN cv score [0.9558944  0.93020236 0.93393368 0.93662462 0.91763488]\n",
      "LR variance score 0.934857986733487\n"
     ]
    }
   ],
   "source": [
    "#  checking cross val score\n",
    "from sklearn.model_selection import cross_val_score,KFold\n",
    "kf = KFold(n_splits=5,shuffle=True,random_state=50)\n",
    "cv_lr =  cross_val_score(lr,X_trans,Y,cv=kf,scoring=\"r2\")\n",
    "cv_kn =  cross_val_score(kn,X_trans,Y,cv=kf,scoring=\"r2\")\n",
    "print(\"LR cv score\",cv_lr)\n",
    "print(\"LR variance score\",cv_lr.mean())\n",
    "print(\"KN cv score\",cv_kn)\n",
    "print(\"KN variance score\",cv_kn.mean())"
   ]
  },
  {
   "cell_type": "markdown",
   "id": "387c7bed",
   "metadata": {},
   "source": [
    "## Performance:\n",
    "- LR training score 0.89\n",
    "- R2 score of LR :  0.87\n",
    "- MSE score of LR :  2.12\n",
    "- MAE score of LR :  1.12\n",
    "- LR cv score [0.84722719 0.90893972 0.87374112 0.91794224 0.84229151]\n",
    "- LR variance score 0.87\n",
    "\n",
    "- KN training score 0.95\n",
    "- R2 score of KN :  0.95\n",
    "- MSE score of KN :  0.81\n",
    "- MAE score of KN :  0.64\n",
    "- KN cv score [0.9558944  0.93020236 0.93393368 0.93662462 0.91763488]\n",
    "- LR variance score 0.93\n",
    "\n",
    "## Based on model performance metrics, K-Nearest Neighbors (KNN) is the better model\n",
    "## compared to Logistic Regression (LR) for this task:\n",
    "\n",
    "## - KNN has a higher R² score (0.95 vs 0.8), indicating a better fit to the data.\n",
    "## - KNN shows lower Mean Squared Error (MSE) (0.81 vs 2.12) and Mean Absolute Error (MAE) (0.64 vs 1.12),\n",
    "##   implying it has fewer and smaller prediction errors than LR.\n",
    "## - KNN also has a higher cross-validation mean score (0.93 vs 0.87), which demonstrates better generalization\n",
    "##   and more consistent performance across different subsets of the data.\n",
    "\n",
    "## Therefore, KNN is selected as the final model due to its superior performance across multiple metrics.\n"
   ]
  }
 ],
 "metadata": {
  "kernelspec": {
   "display_name": "Python 3 (ipykernel)",
   "language": "python",
   "name": "python3"
  },
  "language_info": {
   "codemirror_mode": {
    "name": "ipython",
    "version": 3
   },
   "file_extension": ".py",
   "mimetype": "text/x-python",
   "name": "python",
   "nbconvert_exporter": "python",
   "pygments_lexer": "ipython3",
   "version": "3.11.4"
  }
 },
 "nbformat": 4,
 "nbformat_minor": 5
}
